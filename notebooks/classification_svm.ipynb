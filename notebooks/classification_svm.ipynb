{
 "cells": [
  {
   "cell_type": "markdown",
   "id": "59ac61fb",
   "metadata": {},
   "source": [
    "# Étape 1 — Collecte & organisation du dataset "
   ]
  },
  {
   "cell_type": "markdown",
   "id": "aa0ce7a9",
   "metadata": {},
   "source": []
  }
 ],
 "metadata": {
  "kernelspec": {
   "display_name": ".venv (3.12.3)",
   "language": "python",
   "name": "python3"
  },
  "language_info": {
   "name": "python",
   "version": "3.12.3"
  }
 },
 "nbformat": 4,
 "nbformat_minor": 5
}
