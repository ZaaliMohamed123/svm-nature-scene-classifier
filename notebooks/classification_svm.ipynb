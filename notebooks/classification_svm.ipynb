{
 "cells": [
  {
   "cell_type": "markdown",
   "id": "59ac61fb",
   "metadata": {},
   "source": [
    "# Étape 1 — Collecte & organisation du dataset \n",
    "\n"
   ]
  },
  {
   "cell_type": "markdown",
   "id": "7d783381",
   "metadata": {},
   "source": [
    "1. Importer les dépendances"
   ]
  },
  {
   "cell_type": "code",
   "execution_count": 15,
   "id": "7ce83e3e",
   "metadata": {},
   "outputs": [],
   "source": [
    "from dotenv import load_dotenv\n",
    "import os\n",
    "import kagglehub\n",
    "import shutil\n",
    "import random\n",
    "from PIL import Image"
   ]
  },
  {
   "cell_type": "markdown",
   "id": "889c0df4",
   "metadata": {},
   "source": [
    "2. Load kaggle api key from .env file"
   ]
  },
  {
   "cell_type": "code",
   "execution_count": null,
   "id": "aa0ce7a9",
   "metadata": {},
   "outputs": [
    {
     "name": "stdout",
     "output_type": "stream",
     "text": [
      "KAGGLE_CONFIG_DIR: /home/syntaxerror/India S5/Computer vision/DL-1/svm-nature-scene-classifier\n",
      "KAGGLEHUB_CACHE: /home/syntaxerror/India S5/Computer vision/DL-1/svm-nature-scene-classifier\n"
     ]
    }
   ],
   "source": [
    "# Load .env first\n",
    "load_dotenv(override=True, verbose=True)\n",
    "\n",
    "# verify where is the kaggle config dir\n",
    "print(\"KAGGLE_CONFIG_DIR:\", os.getenv(\"KAGGLE_CONFIG_DIR\"))\n",
    "# verify where kaggle will cache datasets\n",
    "print(\"KAGGLEHUB_CACHE:\", os.getenv(\"KAGGLEHUB_CACHE\"))"
   ]
  },
  {
   "cell_type": "markdown",
   "id": "3d105cca",
   "metadata": {},
   "source": [
    "3. Télécharger le dataset Kaggle avec kagglehub"
   ]
  },
  {
   "cell_type": "code",
   "execution_count": 2,
   "id": "00c3aacb",
   "metadata": {},
   "outputs": [
    {
     "name": "stdout",
     "output_type": "stream",
     "text": [
      "Downloading from https://www.kaggle.com/api/v1/datasets/download/prithivsakthiur/multilabel-geoscenenet-16k?dataset_version_number=1...\n"
     ]
    },
    {
     "name": "stderr",
     "output_type": "stream",
     "text": [
      "100%|██████████| 214M/214M [03:27<00:00, 1.08MB/s] "
     ]
    },
    {
     "name": "stdout",
     "output_type": "stream",
     "text": [
      "Extracting files...\n"
     ]
    },
    {
     "name": "stderr",
     "output_type": "stream",
     "text": [
      "\n"
     ]
    },
    {
     "name": "stdout",
     "output_type": "stream",
     "text": [
      "Path to dataset files: /home/syntaxerror/India S5/Computer vision/DL-1/svm-nature-scene-classifier/datasets/prithivsakthiur/multilabel-geoscenenet-16k/versions/1\n"
     ]
    }
   ],
   "source": [
    "import kagglehub\n",
    "\n",
    "# Download the latest version of the dataset\n",
    "path = kagglehub.dataset_download(\"prithivsakthiur/multilabel-geoscenenet-16k\")\n",
    "\n",
    "print(\"Path to dataset files:\", path)"
   ]
  },
  {
   "cell_type": "markdown",
   "id": "45a2faee",
   "metadata": {},
   "source": [
    "4. Déplacer les données du dossier du jeu de données Kaggle installé vers le dossier data"
   ]
  },
  {
   "cell_type": "code",
   "execution_count": 5,
   "id": "34e8ede3",
   "metadata": {},
   "outputs": [
    {
     "name": "stdout",
     "output_type": "stream",
     "text": [
      "Moved 'Sea or Ocean' to '/home/syntaxerror/India S5/Computer vision/DL-1/svm-nature-scene-classifier/data'\n",
      "Moved 'Forest Area' to '/home/syntaxerror/India S5/Computer vision/DL-1/svm-nature-scene-classifier/data'\n",
      "Moved 'Desert' to '/home/syntaxerror/India S5/Computer vision/DL-1/svm-nature-scene-classifier/data'\n"
     ]
    }
   ],
   "source": [
    "# Entrez le dossier GeoSceneNet16K \n",
    "geo_folder = os.path.join(path, \"GeoSceneNet16K\")\n",
    "\n",
    "# Le chemin du dossier cible où les dossiers seront déplacés\n",
    "project_root = os.path.abspath(os.path.join(os.getcwd(), \"..\"))\n",
    "data_dir = os.path.join(project_root, \"data\")\n",
    "os.makedirs(data_dir, exist_ok=True)  # create if it doesn't exist\n",
    "\n",
    "# La liste des dossiers à déplacer\n",
    "folders_to_move = [\"Sea or Ocean\", \"Forest Area\", \"Desert\"]\n",
    "\n",
    "# Boucle pour déplacer chaque dossier\n",
    "for folder_name in folders_to_move:\n",
    "    src_path = os.path.join(geo_folder, folder_name)\n",
    "    dest_path = os.path.join(data_dir, folder_name)\n",
    "    \n",
    "    if os.path.exists(src_path):\n",
    "        # Supprimer le dossier de destination s'il existe déjà\n",
    "        if os.path.exists(dest_path):\n",
    "            shutil.rmtree(dest_path)\n",
    "        shutil.move(src_path, dest_path)\n",
    "        print(f\"Moved '{folder_name}' to '{data_dir}'\")\n",
    "    else:\n",
    "        print(f\"Folder '{folder_name}' does not exist in '{geo_folder}'\")"
   ]
  },
  {
   "cell_type": "code",
   "execution_count": 7,
   "id": "5c305d5f",
   "metadata": {},
   "outputs": [],
   "source": [
    "# supprimer le dossier temporaire téléchargé\n",
    "kaggle_data_dir = os.path.join(project_root, \"datasets\")\n",
    "shutil.rmtree(kaggle_data_dir)"
   ]
  },
  {
   "cell_type": "markdown",
   "id": "4008751e",
   "metadata": {},
   "source": [
    "5. Garder et renommer les dossiers selon les classes souhaitées"
   ]
  },
  {
   "cell_type": "code",
   "execution_count": 8,
   "id": "a76bc7ab",
   "metadata": {},
   "outputs": [
    {
     "name": "stdout",
     "output_type": "stream",
     "text": [
      "Renamed 'Sea or Ocean' → 'mer'\n",
      "Renamed 'Forest Area' → 'paysage'\n",
      "Renamed 'Desert' → 'desert'\n"
     ]
    }
   ],
   "source": [
    "# Correspondance Anglais -> Français\n",
    "rename_map = {\n",
    "    \"Sea or Ocean\": \"mer\",\n",
    "    \"Forest Area\": \"paysage\",\n",
    "    \"Desert\": \"desert\"\n",
    "}\n",
    "\n",
    "# Rename folders\n",
    "for old_name, new_name in rename_map.items():\n",
    "    old_path = os.path.join(data_dir, old_name)\n",
    "    new_path = os.path.join(data_dir, new_name)\n",
    "    \n",
    "    if os.path.exists(old_path):\n",
    "        os.rename(old_path, new_path)\n",
    "        print(f\"Renamed '{old_name}' → '{new_name}'\")\n",
    "    else:\n",
    "        print(f\"'{old_name}' not found in {data_dir}\")"
   ]
  },
  {
   "cell_type": "markdown",
   "id": "406787a8",
   "metadata": {},
   "source": [
    "6. Renommer les images (mer1.jpg, mer2.jpg, ...)"
   ]
  },
  {
   "cell_type": "code",
   "execution_count": 9,
   "id": "6629c0b3",
   "metadata": {},
   "outputs": [],
   "source": [
    "for cls in rename_map.values():\n",
    "    folder_path = os.path.join(data_dir, cls)\n",
    "    images = [f for f in os.listdir(folder_path) if f.lower().endswith(('.jpg', '.jpeg', '.png'))]\n",
    "    for idx, img in enumerate(images, 1):\n",
    "        ext = os.path.splitext(img)[1]\n",
    "        new_name = f\"{cls}{idx}{ext}\"\n",
    "        os.rename(os.path.join(folder_path, img), os.path.join(folder_path, new_name))\n"
   ]
  },
  {
   "cell_type": "markdown",
   "id": "43f36e93",
   "metadata": {},
   "source": [
    "7. Equilibrage du dataset"
   ]
  },
  {
   "cell_type": "code",
   "execution_count": null,
   "id": "04b44139",
   "metadata": {},
   "outputs": [
    {
     "name": "stdout",
     "output_type": "stream",
     "text": [
      "mer: 2274 images\n",
      "paysage: 2271 images\n",
      "desert: 2000 images\n"
     ]
    }
   ],
   "source": [
    "# Nombre d'images maximum à garder\n",
    "MAX_IMAGES = 2000\n",
    "\n",
    "# Parcourir chaque sous-dossier\n",
    "for folder in rename_map.values():\n",
    "    folder_path = os.path.join(data_dir, folder)\n",
    "\n",
    "    if os.path.isdir(folder_path):\n",
    "        # Récupère toutes les images \n",
    "        images = [f for f in os.listdir(folder_path)\n",
    "                  if f.lower().endswith(('.jpg', '.jpeg', '.png'))]\n",
    "\n",
    "        count = len(images)\n",
    "\n",
    "        # Supprime aléatoirement si plus que MAX_IMAGES\n",
    "        if count > MAX_IMAGES:\n",
    "            to_delete = count - MAX_IMAGES\n",
    "            delete_samples = random.sample(images, to_delete)\n",
    "\n",
    "            for img in delete_samples:\n",
    "                os.remove(os.path.join(folder_path, img))\n",
    "\n"
   ]
  },
  {
   "cell_type": "code",
   "execution_count": null,
   "id": "c5685606",
   "metadata": {},
   "outputs": [
    {
     "name": "stdout",
     "output_type": "stream",
     "text": [
      "mer: 2000 images\n",
      "paysage: 2000 images\n",
      "desert: 2000 images\n"
     ]
    }
   ],
   "source": [
    "# Verifier le nombre d'images dans chaque dossier\n",
    "for folder in rename_map.values():\n",
    "    folder_path = os.path.join(data_dir, folder)\n",
    "\n",
    "    if os.path.isdir(folder_path):\n",
    "        # Récupère toutes les images \n",
    "        images = [f for f in os.listdir(folder_path)\n",
    "                  if f.lower().endswith(('.jpg', '.jpeg', '.png'))]\n",
    "\n",
    "        count = len(images)\n",
    "        print(f\"{folder}: {count} images\")"
   ]
  },
  {
   "cell_type": "markdown",
   "id": "0772d427",
   "metadata": {},
   "source": [
    "8. Vérification et redimensionnement à 128x128"
   ]
  },
  {
   "cell_type": "code",
   "execution_count": 16,
   "id": "6db3bbd9",
   "metadata": {},
   "outputs": [
    {
     "name": "stdout",
     "output_type": "stream",
     "text": [
      "mer: 2000 images valides\n",
      "paysage: 2000 images valides\n",
      "desert: 2000 images valides\n"
     ]
    }
   ],
   "source": [
    "def check_and_resize(data_dir, classes, size=(128,128)):\n",
    "    for cls in classes:\n",
    "        folder = os.path.join(data_dir, cls)\n",
    "        images = [f for f in os.listdir(folder) if f.lower().endswith(('.jpg', '.jpeg', '.png'))]\n",
    "        valid_images = []\n",
    "        for img_name in images:\n",
    "            img_path = os.path.join(folder, img_name)\n",
    "            try:\n",
    "                img = Image.open(img_path)\n",
    "                img.verify()  # Vérifie la lisibilité\n",
    "                # Redimensionnement\n",
    "                img = Image.open(img_path).convert('RGB')\n",
    "                img = img.resize(size)\n",
    "                img.save(img_path)\n",
    "                valid_images.append(img_name)\n",
    "            except Exception as e:\n",
    "                print(f\"Image corrompue : {img_path}\")\n",
    "        print(f\"{cls}: {len(valid_images)} images valides\")\n",
    "\n",
    "# Utiliser la bonne liste de classes françaises :\n",
    "classes = rename_map.values()\n",
    "check_and_resize(data_dir, classes)\n"
   ]
  },
  {
   "cell_type": "code",
   "execution_count": null,
   "id": "a941356e",
   "metadata": {},
   "outputs": [],
   "source": []
  }
 ],
 "metadata": {
  "kernelspec": {
   "display_name": ".venv (3.12.3)",
   "language": "python",
   "name": "python3"
  },
  "language_info": {
   "codemirror_mode": {
    "name": "ipython",
    "version": 3
   },
   "file_extension": ".py",
   "mimetype": "text/x-python",
   "name": "python",
   "nbconvert_exporter": "python",
   "pygments_lexer": "ipython3",
   "version": "3.12.3"
  }
 },
 "nbformat": 4,
 "nbformat_minor": 5
}
